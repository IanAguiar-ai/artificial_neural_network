{
  "nbformat": 4,
  "nbformat_minor": 0,
  "metadata": {
    "colab": {
      "provenance": []
    },
    "kernelspec": {
      "name": "python3",
      "display_name": "Python 3"
    },
    "language_info": {
      "name": "python"
    }
  },
  "cells": [
    {
      "cell_type": "markdown",
      "source": [
        "# Download the Library"
      ],
      "metadata": {
        "id": "wRFQmzWRe9fv"
      }
    },
    {
      "cell_type": "code",
      "execution_count": 1,
      "metadata": {
        "colab": {
          "base_uri": "https://localhost:8080/"
        },
        "id": "2PoE5osPetmA",
        "outputId": "f6939dc8-8686-4eb1-8336-713106e805c2"
      },
      "outputs": [
        {
          "output_type": "stream",
          "name": "stdout",
          "text": [
            "Collecting git+https://github.com/IanAguiar-ai/artificial_neural_network\n",
            "  Cloning https://github.com/IanAguiar-ai/artificial_neural_network to /tmp/pip-req-build-r0rl5tv0\n",
            "  Running command git clone --filter=blob:none --quiet https://github.com/IanAguiar-ai/artificial_neural_network /tmp/pip-req-build-r0rl5tv0\n",
            "  Resolved https://github.com/IanAguiar-ai/artificial_neural_network to commit af5ace5b9c16e138ad9682e7629963aeb0dfa65e\n",
            "  Preparing metadata (setup.py) ... \u001b[?25l\u001b[?25hdone\n",
            "Building wheels for collected packages: neuralnetwork\n",
            "  Building wheel for neuralnetwork (setup.py) ... \u001b[?25l\u001b[?25hdone\n",
            "  Created wheel for neuralnetwork: filename=neuralnetwork-0.0.2-py3-none-any.whl size=6469 sha256=f46e72a37dd6443d614a41f62302b10100c4e6c283ef41b3508793b9f4c71132\n",
            "  Stored in directory: /tmp/pip-ephem-wheel-cache-y9dwtphf/wheels/fc/8f/b2/aec4c1f0b0a6f74e3b631c6534e3e06eefa444f2840985f6db\n",
            "Successfully built neuralnetwork\n",
            "Installing collected packages: neuralnetwork\n",
            "Successfully installed neuralnetwork-0.0.2\n"
          ]
        }
      ],
      "source": [
        "! pip install git+https://github.com/IanAguiar-ai/artificial_neural_network"
      ]
    },
    {
      "cell_type": "code",
      "source": [
        "from neural_network import artificial_neural_network as nn"
      ],
      "metadata": {
        "id": "sanvY5xasVOH"
      },
      "execution_count": 2,
      "outputs": []
    },
    {
      "cell_type": "code",
      "source": [
        "help(nn)"
      ],
      "metadata": {
        "colab": {
          "base_uri": "https://localhost:8080/"
        },
        "id": "2FgJJ5ouuLZH",
        "outputId": "13733635-12cd-429f-be0a-29f1bb296317"
      },
      "execution_count": 3,
      "outputs": [
        {
          "output_type": "stream",
          "name": "stdout",
          "text": [
            "Help on module neural_network.artificial_neural_network in neural_network:\n",
            "\n",
            "NAME\n",
            "    neural_network.artificial_neural_network\n",
            "\n",
            "DESCRIPTION\n",
            "    Classes/Objetos que servem para criar uma rede neural.\n",
            "    É flexível na criação de redes.\n",
            "    Existem duas classes, o Neuron e a Network. Uma Network é composta por Neuron's conectados.\n",
            "\n",
            "CLASSES\n",
            "    builtins.object\n",
            "        Network\n",
            "        Neuron\n",
            "    \n",
            "    class Network(builtins.object)\n",
            "     |  Network(network=None, value=None, one_hot=False)\n",
            "     |  \n",
            "     |  Após definir uma lista de listas de neuronios, você pode criar uma rede, ela será responsável pelo controle geral das conecções.\n",
            "     |  \n",
            "     |  Methods defined here:\n",
            "     |  \n",
            "     |  __eq__(self, inputs)\n",
            "     |      Método especial que aceita entradas. rede == [0,0] por exemplo.\n",
            "     |  \n",
            "     |  __getitem__(self, index)\n",
            "     |      Método especial que retorna um layer. rede[0] por exemplo.\n",
            "     |  \n",
            "     |  __init__(self, network=None, value=None, one_hot=False)\n",
            "     |      Initialize self.  See help(type(self)) for accurate signature.\n",
            "     |  \n",
            "     |  __invert__(self)\n",
            "     |      Método especial que roda a rede uma vez. ~rede por exemplo.\n",
            "     |  \n",
            "     |  __repr__(self)\n",
            "     |      Método especial.\n",
            "     |  \n",
            "     |  __rshift__(self, times)\n",
            "     |      Método especial que roda a rede um determinado numero de vezes. rede >> 2 por exemplo.\n",
            "     |  \n",
            "     |  answer(self, inputs)\n",
            "     |      Diz quais são os outputs.\n",
            "     |  \n",
            "     |  exist_nan(self)\n",
            "     |      Se por algum motivo existe um valor infinito ou um 'not a number' na rede ele retorna True.\n",
            "     |  \n",
            "     |  export_(self, name='neural_network')\n",
            "     |      Exporta os pesos da rede.\n",
            "     |  \n",
            "     |  export_design(self, name='design_neural_network')\n",
            "     |      Exporta tanto a estrutura das redes quanto seus pesos.\n",
            "     |  \n",
            "     |  fill(self)\n",
            "     |      Completa os inputs ou neuronios de viés com 1.\n",
            "     |  \n",
            "     |  import_(self, name='neural_network')\n",
            "     |      Importa pesos externos para sua rede.\n",
            "     |  \n",
            "     |  import_design(self, name='design_neural_network')\n",
            "     |      Importa a estrutura completa da rede interpretando pesos e conecções.\n",
            "     |  \n",
            "     |  properties(self)\n",
            "     |      Diz algumas propriedades da rede.\n",
            "     |  \n",
            "     |  run(self)\n",
            "     |      Faz um caminho de ida e volta na rede, corrigindo seus pesos com o BackPropagation.\n",
            "     |  \n",
            "     |  simple_run(self)\n",
            "     |      Faz um caminho apenas de ida na rede.\n",
            "     |  \n",
            "     |  train(self, inputs, values, times)\n",
            "     |      Treina a rede.\n",
            "     |  \n",
            "     |  view(self)\n",
            "     |      Ajuda a visualizar a rede.\n",
            "     |  \n",
            "     |  ----------------------------------------------------------------------\n",
            "     |  Data descriptors defined here:\n",
            "     |  \n",
            "     |  network\n",
            "     |  \n",
            "     |  one_hot\n",
            "     |  \n",
            "     |  print_\n",
            "     |  \n",
            "     |  value\n",
            "     |  \n",
            "     |  ----------------------------------------------------------------------\n",
            "     |  Data and other attributes defined here:\n",
            "     |  \n",
            "     |  __hash__ = None\n",
            "    \n",
            "    class Neuron(builtins.object)\n",
            "     |  Neuron(learn=0.01, activation_function='sigmoid')\n",
            "     |  \n",
            "     |  Cria um objeto que pode ser tanto um input quanto um neurônio quanto um output, você não precissa indentificar o que ele é.\n",
            "     |  \n",
            "     |  Methods defined here:\n",
            "     |  \n",
            "     |  __init__(self, learn=0.01, activation_function='sigmoid')\n",
            "     |      Initialize self.  See help(type(self)) for accurate signature.\n",
            "     |  \n",
            "     |  activation(self)\n",
            "     |      Sigmoide, serve para a ativação do objeto.\n",
            "     |  \n",
            "     |  change_weights(self)\n",
            "     |      Troca os pesos de acordo com o fator de correção.\n",
            "     |  \n",
            "     |  conect(self, conections)\n",
            "     |      Conecta um objeto a outros, o unico tipo de objeto que não dever ser conectado é o output.\n",
            "     |  \n",
            "     |  correction(self, value)\n",
            "     |      Descobre o fator de correção.\n",
            "     |  \n",
            "     |  distribute(self)\n",
            "     |      Faz a distribuição dos pesos entre os objetos.\n",
            "     |  \n",
            "     |  input(self, value)\n",
            "     |      #Exclusivo do Input:\n",
            "     |  \n",
            "     |  prints(self)\n",
            "     |      Printa as propriedades do objeto.\n",
            "     |  \n",
            "     |  ----------------------------------------------------------------------\n",
            "     |  Data descriptors defined here:\n",
            "     |  \n",
            "     |  activation_function\n",
            "     |  \n",
            "     |  conections\n",
            "     |  \n",
            "     |  factor_correction\n",
            "     |  \n",
            "     |  learn\n",
            "     |  \n",
            "     |  returns\n",
            "     |  \n",
            "     |  value\n",
            "     |  \n",
            "     |  weights\n",
            "\n",
            "FUNCTIONS\n",
            "    mlp(design: list, bias: bool = True, one_hot=False, **args)\n",
            "\n",
            "FILE\n",
            "    /usr/local/lib/python3.10/dist-packages/neural_network/artificial_neural_network.py\n",
            "\n",
            "\n"
          ]
        }
      ]
    },
    {
      "cell_type": "markdown",
      "source": [
        "# MLP classifier with this library:"
      ],
      "metadata": {
        "id": "OclxlMtyvz-2"
      }
    },
    {
      "cell_type": "markdown",
      "source": [
        "## For comparison, using ready-made library:"
      ],
      "metadata": {
        "id": "qPCqdAA48Dnm"
      }
    },
    {
      "cell_type": "code",
      "source": [
        "from sklearn.datasets import load_iris\n",
        "from sklearn.model_selection import train_test_split\n",
        "from sklearn.neural_network import MLPClassifier\n",
        "from sklearn.metrics import accuracy_score\n",
        "\n",
        "iris = load_iris()\n",
        "X = iris.data\n",
        "y = iris.target\n",
        "\n",
        "X_train, X_test, y_train, y_test = train_test_split(X, y, test_size=0.2, random_state=42)\n",
        "\n",
        "model = MLPClassifier(hidden_layer_sizes=(10, 10), max_iter=1000, random_state=42)\n",
        "\n",
        "model.fit(X_train, y_train)\n",
        "\n",
        "y_pred = model.predict(X_test)\n",
        "\n",
        "accuracy = accuracy_score(y_test, y_pred)\n",
        "print(\"Accuracy: {:.2f}%\".format(accuracy * 100))"
      ],
      "metadata": {
        "colab": {
          "base_uri": "https://localhost:8080/"
        },
        "id": "EWpvoP38rTqn",
        "outputId": "6ecef56d-226d-4f3d-cd09-6f2877ceab09"
      },
      "execution_count": 4,
      "outputs": [
        {
          "output_type": "stream",
          "name": "stdout",
          "text": [
            "Accuracy: 93.33%\n"
          ]
        }
      ]
    },
    {
      "cell_type": "markdown",
      "source": [
        "## Creating and viewing the network:"
      ],
      "metadata": {
        "id": "tl95ViLcwuSY"
      }
    },
    {
      "cell_type": "code",
      "source": [
        "rede = nn.mlp([len(X[0]), 10, 10, 3], learn = 0.05, one_hot = True)"
      ],
      "metadata": {
        "id": "ezBV8iBmwBX3"
      },
      "execution_count": 5,
      "outputs": []
    },
    {
      "cell_type": "code",
      "source": [
        "rede"
      ],
      "metadata": {
        "colab": {
          "base_uri": "https://localhost:8080/"
        },
        "id": "ZbGbNUc5wVYX",
        "outputId": "3c41b0ba-a611-49eb-fdaa-6ed401c92ef9"
      },
      "execution_count": 6,
      "outputs": [
        {
          "output_type": "execute_result",
          "data": {
            "text/plain": [
              "Layer[0] neuron[0] = 1 | w = [0.4614160413721726, -0.3374683172148427, -0.5037330316062152, -0.9628923643646037, -0.635453883624596, -0.2696135838581668, 0.3250505926000775, 0.8198502371504823, -0.2793468052246739] | c = None\n",
              "Layer[0] neuron[1] = 1 | w = [0.5024304461242537, 0.7455649463838219, 0.1658332423533162, 0.8818753795575627, 0.5293408099538279, 0.9419552369066706, 0.32033335351682957, 0.039672632690547216, 0.5389127594220142] | c = None\n",
              "Layer[0] neuron[2] = 1 | w = [0.6185821791673489, -0.15470690264246545, -0.7656398068008561, -0.372976157451113, 0.9091695840367859, 0.9143279824978054, 0.5658112100243424, 0.17873457072450205, 0.8419621274668339] | c = None\n",
              "Layer[0] neuron[3] = 1 | w = [0.025444893745183883, -0.9586331943795166, 0.2979544348255172, 0.9500861764834811, -0.20830191562007871, -0.16870896134891233, 0.5943718733646393, -0.8348276888073349, 0.19252066066570794] | c = None\n",
              "Layer[1] neuron[0] = 1 | w = [0.8552267703103262, 0.6449247654974812, -0.6065610130661279, 0.9858106220840468, 0.891378922077422, 0.5852922037051509, 0.20015266362150474, -0.2765108643198395, 0.09950809789906989] | c = None\n",
              "Layer[1] neuron[1] = None | w = [-0.32832893397547447, -0.9594475433221508, -0.8943216092629434, 0.3923671920989713, 0.3963610106737603, 0.642130868245782, 0.7419238104584438, 0.9277734795110792, -0.5242494686849581] | c = None\n",
              "Layer[1] neuron[2] = None | w = [-0.8088180255642596, -0.9220984932330196, -0.42078709741821907, -0.740355311035136, -0.4019536986151313, -0.27514572205683363, 0.3293015022325789, -0.45796799254541365, 0.0320567343481577] | c = None\n",
              "Layer[1] neuron[3] = None | w = [0.13384053479047364, -0.8657118862965774, 0.21283169983825023, -0.8943411550470464, 0.26944205329000304, 0.46675730194776466, -0.39758495485085965, 0.9987174110557078, 0.4415767330805762] | c = None\n",
              "Layer[1] neuron[4] = None | w = [-0.8438300586293752, -0.9650955090068742, -0.6433637802931509, 0.933377654852998, -0.9214682483646084, -0.7449571773588912, 0.499616803313504, 0.46049212860151645, 0.3598581103781604] | c = None\n",
              "Layer[1] neuron[5] = None | w = [-0.025743498332931214, 0.4749762034656766, -0.7602210520398587, -0.5806446894509747, -0.9852304980776652, 0.9749520608577154, -0.7463459217051167, 0.6353006212188477, 0.9022779576225901] | c = None\n",
              "Layer[1] neuron[6] = None | w = [-0.18980547831923023, 0.48329948799597156, 0.22424717630040347, 0.9796387010328185, -0.6842725592943042, -0.1833945078421495, 0.7881128155594159, 0.6896047469679951, -0.46934186791770394] | c = None\n",
              "Layer[1] neuron[7] = None | w = [-0.5019341048084409, -0.5122488193682273, 0.8372033627398021, -0.891628056773702, 0.7349883236883872, 0.31468660843568474, -0.8166843155392474, -0.4818974161332892, -0.1601255309755334] | c = None\n",
              "Layer[1] neuron[8] = None | w = [-0.8863197832604468, -0.7320414352319502, -0.49686320549457363, -0.913623379285259, 0.30684883123150297, 0.8966034347422511, -0.5537087283817699, 0.03268603536058845, 0.6080750619870006] | c = None\n",
              "Layer[1] neuron[9] = None | w = [-0.8704492741145182, 0.1330502884770206, -0.6596472874903938, -0.6149711048305031, 0.6141573042669393, 0.7155410025190394, 0.7043939614450361, -0.7710758336881929, 0.9467326482257765] | c = None\n",
              "Layer[2] neuron[0] = 1 | w = [-0.3234981572912976, 0.43233391556748346, 0.8713030675938132] | c = None\n",
              "Layer[2] neuron[1] = None | w = [-0.6641180915481277, -0.2146118119760747, 0.2679600468254102] | c = None\n",
              "Layer[2] neuron[2] = None | w = [0.7836795941468617, 0.5852224026654955, -0.7786399678669866] | c = None\n",
              "Layer[2] neuron[3] = None | w = [0.7377999714727381, 0.16430881311592094, 0.6408129798371689] | c = None\n",
              "Layer[2] neuron[4] = None | w = [0.37869199528278297, -0.518566454510397, -0.06544286935514942] | c = None\n",
              "Layer[2] neuron[5] = None | w = [-0.192798284538243, 0.06765234568535439, -0.553704673471177] | c = None\n",
              "Layer[2] neuron[6] = None | w = [0.3017438154434675, -0.5533665339759644, 0.2185687488832142] | c = None\n",
              "Layer[2] neuron[7] = None | w = [-0.523987622174855, 0.6676340914965673, 0.3276185533528819] | c = None\n",
              "Layer[2] neuron[8] = None | w = [0.311999510197978, -0.42513217012973037, 0.26298608452787353] | c = None\n",
              "Layer[2] neuron[9] = None | w = [0.009648609529514518, -0.8096806329806063, -0.45660355848500345] | c = None\n",
              "Layer[3] neuron[0] = None | w = None | c = None\n",
              "Layer[3] neuron[1] = None | w = None | c = None\n",
              "Layer[3] neuron[2] = None | w = None | c = None"
            ]
          },
          "metadata": {},
          "execution_count": 6
        }
      ]
    },
    {
      "cell_type": "markdown",
      "source": [
        "## Training the model:"
      ],
      "metadata": {
        "id": "AXNkFYsbwZJ-"
      }
    },
    {
      "cell_type": "code",
      "source": [
        "X_train = X_train.tolist()\n",
        "X_test = X_test.tolist()\n",
        "y_train = y_train.tolist()\n",
        "y_test = y_test.tolist()"
      ],
      "metadata": {
        "id": "oBFDRUFLw3To"
      },
      "execution_count": 7,
      "outputs": []
    },
    {
      "cell_type": "code",
      "source": [
        "def one_hot(a):\n",
        "  k = [0, 0, 0]\n",
        "  k[a] = 1\n",
        "  return k"
      ],
      "metadata": {
        "id": "sanTPbIuv8TU"
      },
      "execution_count": 9,
      "outputs": []
    },
    {
      "cell_type": "code",
      "source": [
        "rede.train(X_train, list(map(one_hot, y_train)), times = 100)"
      ],
      "metadata": {
        "colab": {
          "base_uri": "https://localhost:8080/"
        },
        "id": "MJpy_R-Iwl6H",
        "outputId": "4b668527-2c59-45d1-d7e4-78a9185606ce"
      },
      "execution_count": 10,
      "outputs": [
        {
          "output_type": "stream",
          "name": "stdout",
          "text": [
            "5.0%\n",
            "10.0%\n",
            "15.0%\n",
            "20.0%\n",
            "25.0%\n",
            "30.0%\n",
            "35.0%\n",
            "40.0%\n",
            "45.0%\n",
            "50.0%\n",
            "55.0%\n",
            "60.0%\n",
            "65.0%\n",
            "70.0%\n",
            "75.0%\n",
            "80.0%\n",
            "85.0%\n",
            "90.0%\n",
            "95.0%\n",
            "100.%\n"
          ]
        }
      ]
    },
    {
      "cell_type": "markdown",
      "source": [
        "## Testing the results:"
      ],
      "metadata": {
        "id": "GCiXWzRqxTiG"
      }
    },
    {
      "cell_type": "code",
      "source": [
        "ac, total = 0, 0\n",
        "for i in range(len(X_test)):\n",
        "  resp = (rede == X_test[i])\n",
        "  if resp == one_hot(y_test[i]):\n",
        "    ac += 1\n",
        "  total += 1\n",
        "\n",
        "print(f\"\\n\\nAcurracy {ac/total * 100}\")"
      ],
      "metadata": {
        "colab": {
          "base_uri": "https://localhost:8080/"
        },
        "id": "Ci7IdNnexUru",
        "outputId": "557c806d-c608-4538-830c-05d1281a56a9"
      },
      "execution_count": 15,
      "outputs": [
        {
          "output_type": "stream",
          "name": "stdout",
          "text": [
            "[6.1, 2.8, 4.7, 1.2]\n",
            "y(0) = 0\n",
            "y(1) = 1\n",
            "y(0) = 0\n",
            "\n",
            "[5.7, 3.8, 1.7, 0.3]\n",
            "y(1) = 1\n",
            "y(0) = 0\n",
            "y(0) = 0\n",
            "\n",
            "[7.7, 2.6, 6.9, 2.3]\n",
            "y(0) = 0\n",
            "y(0) = 0\n",
            "y(1) = 1\n",
            "\n",
            "[6.0, 2.9, 4.5, 1.5]\n",
            "y(0) = 0\n",
            "y(1) = 1\n",
            "y(0) = 0\n",
            "\n",
            "[6.8, 2.8, 4.8, 1.4]\n",
            "y(0) = 0\n",
            "y(1) = 1\n",
            "y(0) = 0\n",
            "\n",
            "[5.4, 3.4, 1.5, 0.4]\n",
            "y(1) = 1\n",
            "y(0) = 0\n",
            "y(0) = 0\n",
            "\n",
            "[5.6, 2.9, 3.6, 1.3]\n",
            "y(0) = 0\n",
            "y(1) = 1\n",
            "y(0) = 0\n",
            "\n",
            "[6.9, 3.1, 5.1, 2.3]\n",
            "y(0) = 0\n",
            "y(1) = 1\n",
            "y(0) = 0\n",
            "\n",
            "[6.2, 2.2, 4.5, 1.5]\n",
            "y(0) = 0\n",
            "y(1) = 1\n",
            "y(0) = 0\n",
            "\n",
            "[5.8, 2.7, 3.9, 1.2]\n",
            "y(0) = 0\n",
            "y(1) = 1\n",
            "y(0) = 0\n",
            "\n",
            "[6.5, 3.2, 5.1, 2.0]\n",
            "y(0) = 0\n",
            "y(1) = 1\n",
            "y(0) = 0\n",
            "\n",
            "[4.8, 3.0, 1.4, 0.1]\n",
            "y(1) = 1\n",
            "y(0) = 0\n",
            "y(0) = 0\n",
            "\n",
            "[5.5, 3.5, 1.3, 0.2]\n",
            "y(1) = 1\n",
            "y(0) = 0\n",
            "y(0) = 0\n",
            "\n",
            "[4.9, 3.1, 1.5, 0.1]\n",
            "y(1) = 1\n",
            "y(0) = 0\n",
            "y(0) = 0\n",
            "\n",
            "[5.1, 3.8, 1.5, 0.3]\n",
            "y(1) = 1\n",
            "y(0) = 0\n",
            "y(0) = 0\n",
            "\n",
            "[6.3, 3.3, 4.7, 1.6]\n",
            "y(0) = 0\n",
            "y(1) = 1\n",
            "y(0) = 0\n",
            "\n",
            "[6.5, 3.0, 5.8, 2.2]\n",
            "y(0) = 0\n",
            "y(0) = 0\n",
            "y(1) = 1\n",
            "\n",
            "[5.6, 2.5, 3.9, 1.1]\n",
            "y(0) = 0\n",
            "y(1) = 1\n",
            "y(0) = 0\n",
            "\n",
            "[5.7, 2.8, 4.5, 1.3]\n",
            "y(0) = 0\n",
            "y(1) = 1\n",
            "y(0) = 0\n",
            "\n",
            "[6.4, 2.8, 5.6, 2.2]\n",
            "y(0) = 0\n",
            "y(0) = 0\n",
            "y(1) = 1\n",
            "\n",
            "[4.7, 3.2, 1.6, 0.2]\n",
            "y(1) = 1\n",
            "y(0) = 0\n",
            "y(0) = 0\n",
            "\n",
            "[6.1, 3.0, 4.9, 1.8]\n",
            "y(0) = 0\n",
            "y(0) = 0\n",
            "y(1) = 1\n",
            "\n",
            "[5.0, 3.4, 1.6, 0.4]\n",
            "y(1) = 1\n",
            "y(0) = 0\n",
            "y(0) = 0\n",
            "\n",
            "[6.4, 2.8, 5.6, 2.1]\n",
            "y(0) = 0\n",
            "y(0) = 0\n",
            "y(1) = 1\n",
            "\n",
            "[7.9, 3.8, 6.4, 2.0]\n",
            "y(0) = 0\n",
            "y(0) = 0\n",
            "y(1) = 1\n",
            "\n",
            "[6.7, 3.0, 5.2, 2.3]\n",
            "y(0) = 0\n",
            "y(0) = 0\n",
            "y(1) = 1\n",
            "\n",
            "[6.7, 2.5, 5.8, 1.8]\n",
            "y(0) = 0\n",
            "y(0) = 0\n",
            "y(1) = 1\n",
            "\n",
            "[6.8, 3.2, 5.9, 2.3]\n",
            "y(0) = 0\n",
            "y(0) = 0\n",
            "y(1) = 1\n",
            "\n",
            "[4.8, 3.0, 1.4, 0.3]\n",
            "y(1) = 1\n",
            "y(0) = 0\n",
            "y(0) = 0\n",
            "\n",
            "[4.8, 3.1, 1.6, 0.2]\n",
            "y(1) = 1\n",
            "y(0) = 0\n",
            "y(0) = 0\n",
            "\n",
            "\n",
            "\n",
            "Acurracy 93.33333333333333\n"
          ]
        }
      ]
    }
  ]
}