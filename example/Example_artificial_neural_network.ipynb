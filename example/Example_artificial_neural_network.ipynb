{
  "nbformat": 4,
  "nbformat_minor": 0,
  "metadata": {
    "colab": {
      "provenance": []
    },
    "kernelspec": {
      "name": "python3",
      "display_name": "Python 3"
    },
    "language_info": {
      "name": "python"
    }
  },
  "cells": [
    {
      "cell_type": "markdown",
      "source": [
        "# Download the Library"
      ],
      "metadata": {
        "id": "wRFQmzWRe9fv"
      }
    },
    {
      "cell_type": "code",
      "execution_count": 59,
      "metadata": {
        "colab": {
          "base_uri": "https://localhost:8080/"
        },
        "id": "2PoE5osPetmA",
        "outputId": "8b0cd87b-7a8a-40f3-be74-a80a0f65b102"
      },
      "outputs": [
        {
          "output_type": "stream",
          "name": "stdout",
          "text": [
            "Collecting git+https://github.com/IanAguiar-ai/artificial_neural_network\n",
            "  Cloning https://github.com/IanAguiar-ai/artificial_neural_network to /tmp/pip-req-build-_018tbjy\n",
            "  Running command git clone --filter=blob:none --quiet https://github.com/IanAguiar-ai/artificial_neural_network /tmp/pip-req-build-_018tbjy\n",
            "  Resolved https://github.com/IanAguiar-ai/artificial_neural_network to commit 47682065fa06267a9bf7ddb629008c00153e5e9b\n",
            "  Preparing metadata (setup.py) ... \u001b[?25l\u001b[?25hdone\n"
          ]
        }
      ],
      "source": [
        "! pip install git+https://github.com/IanAguiar-ai/artificial_neural_network"
      ]
    },
    {
      "cell_type": "code",
      "source": [
        "from neural_network import artificial_neural_network as nn"
      ],
      "metadata": {
        "id": "sanvY5xasVOH"
      },
      "execution_count": 60,
      "outputs": []
    },
    {
      "cell_type": "code",
      "source": [
        "help(nn)"
      ],
      "metadata": {
        "colab": {
          "base_uri": "https://localhost:8080/"
        },
        "id": "2FgJJ5ouuLZH",
        "outputId": "3cef75df-81e0-4e6b-c2c9-721a5087cb41"
      },
      "execution_count": 61,
      "outputs": [
        {
          "output_type": "stream",
          "name": "stdout",
          "text": [
            "Help on module neural_network.artificial_neural_network in neural_network:\n",
            "\n",
            "NAME\n",
            "    neural_network.artificial_neural_network\n",
            "\n",
            "DESCRIPTION\n",
            "    Classes/Objetos que servem para criar uma rede neural.\n",
            "    É flexível na criação de redes.\n",
            "    Existem duas classes, o Neuron e a Network. Uma Network é composta por Neuron's conectados.\n",
            "\n",
            "CLASSES\n",
            "    builtins.object\n",
            "        Network\n",
            "        Neuron\n",
            "    \n",
            "    class Network(builtins.object)\n",
            "     |  Network(network=None, value=None)\n",
            "     |  \n",
            "     |  Após definir uma lista de listas de neuronios, você pode criar uma rede, ela será responsável pelo controle geral das conecções.\n",
            "     |  \n",
            "     |  Methods defined here:\n",
            "     |  \n",
            "     |  __eq__(self, inputs)\n",
            "     |      Método especial que aceita entradas. rede == [0,0] por exemplo.\n",
            "     |  \n",
            "     |  __getitem__(self, index)\n",
            "     |      Método especial que retorna um layer. rede[0] por exemplo.\n",
            "     |  \n",
            "     |  __init__(self, network=None, value=None)\n",
            "     |      Initialize self.  See help(type(self)) for accurate signature.\n",
            "     |  \n",
            "     |  __invert__(self)\n",
            "     |      Método especial que roda a rede uma vez. ~rede por exemplo.\n",
            "     |  \n",
            "     |  __repr__(self)\n",
            "     |      Método especial.\n",
            "     |  \n",
            "     |  __rshift__(self, times)\n",
            "     |      Método especial que roda a rede um determinado numero de vezes. rede >> 2 por exemplo.\n",
            "     |  \n",
            "     |  answer(self, inputs)\n",
            "     |      Diz quais são os outputs.\n",
            "     |  \n",
            "     |  exist_nan(self)\n",
            "     |      Se por algum motivo existe um valor infinito ou um 'not a number' na rede ele retorna True.\n",
            "     |  \n",
            "     |  export_(self, name='neural_network')\n",
            "     |      Exporta os pesos da rede.\n",
            "     |  \n",
            "     |  export_design(self, name='design_neural_network')\n",
            "     |      Exporta tanto a estrutura das redes quanto seus pesos.\n",
            "     |  \n",
            "     |  fill(self)\n",
            "     |      Completa os inputs ou neuronios de viés com 1.\n",
            "     |  \n",
            "     |  import_(self, name='neural_network')\n",
            "     |      Importa pesos externos para sua rede.\n",
            "     |  \n",
            "     |  import_design(self, name='design_neural_network')\n",
            "     |      Importa a estrutura completa da rede interpretando pesos e conecções.\n",
            "     |  \n",
            "     |  properties(self)\n",
            "     |      Diz algumas propriedades da rede.\n",
            "     |  \n",
            "     |  run(self)\n",
            "     |      Faz um caminho de ida e volta na rede, corrigindo seus pesos com o BackPropagation.\n",
            "     |  \n",
            "     |  simple_run(self)\n",
            "     |      Faz um caminho apenas de ida na rede.\n",
            "     |  \n",
            "     |  train(self, inputs, values, times)\n",
            "     |      Treina a rede.\n",
            "     |  \n",
            "     |  view(self)\n",
            "     |      Ajuda a visualizar a rede.\n",
            "     |  \n",
            "     |  ----------------------------------------------------------------------\n",
            "     |  Data descriptors defined here:\n",
            "     |  \n",
            "     |  network\n",
            "     |  \n",
            "     |  print_\n",
            "     |  \n",
            "     |  value\n",
            "     |  \n",
            "     |  ----------------------------------------------------------------------\n",
            "     |  Data and other attributes defined here:\n",
            "     |  \n",
            "     |  __hash__ = None\n",
            "    \n",
            "    class Neuron(builtins.object)\n",
            "     |  Neuron(learn=0.01)\n",
            "     |  \n",
            "     |  Cria um objeto que pode ser tanto um input quanto um neurônio quanto um output, você não precissa indentificar o que ele é.\n",
            "     |  \n",
            "     |  Methods defined here:\n",
            "     |  \n",
            "     |  __init__(self, learn=0.01)\n",
            "     |      Initialize self.  See help(type(self)) for accurate signature.\n",
            "     |  \n",
            "     |  activation(self)\n",
            "     |      Sigmoide, serve para a ativação do objeto.\n",
            "     |  \n",
            "     |  change_weights(self)\n",
            "     |      Troca os pesos de acordo com o fator de correção.\n",
            "     |  \n",
            "     |  conect(self, conections)\n",
            "     |      Conecta um objeto a outros, o unico tipo de objeto que não dever ser conectado é o output.\n",
            "     |  \n",
            "     |  correction(self, value)\n",
            "     |      Descobre o fator de correção.\n",
            "     |  \n",
            "     |  distribute(self)\n",
            "     |      Faz a distribuição dos pesos entre os objetos.\n",
            "     |  \n",
            "     |  input(self, value)\n",
            "     |      #Exclusivo do Input:\n",
            "     |  \n",
            "     |  prints(self)\n",
            "     |      Printa as propriedades do objeto.\n",
            "     |  \n",
            "     |  ----------------------------------------------------------------------\n",
            "     |  Data descriptors defined here:\n",
            "     |  \n",
            "     |  conections\n",
            "     |  \n",
            "     |  factor_correction\n",
            "     |  \n",
            "     |  learn\n",
            "     |  \n",
            "     |  returns\n",
            "     |  \n",
            "     |  value\n",
            "     |  \n",
            "     |  weights\n",
            "\n",
            "FUNCTIONS\n",
            "    mlp(design: list, bias: bool = True, learn=0.01)\n",
            "\n",
            "DATA\n",
            "    n0_0 = <neural_network.artificial_neural_network.Neuron object>\n",
            "    n0_1 = <neural_network.artificial_neural_network.Neuron object>\n",
            "    n0_2 = <neural_network.artificial_neural_network.Neuron object>\n",
            "    n0_3 = <neural_network.artificial_neural_network.Neuron object>\n",
            "    n1_0 = <neural_network.artificial_neural_network.Neuron object>\n",
            "    n1_1 = <neural_network.artificial_neural_network.Neuron object>\n",
            "    n1_2 = <neural_network.artificial_neural_network.Neuron object>\n",
            "    n1_3 = <neural_network.artificial_neural_network.Neuron object>\n",
            "    n1_4 = <neural_network.artificial_neural_network.Neuron object>\n",
            "    n1_5 = <neural_network.artificial_neural_network.Neuron object>\n",
            "    n1_6 = <neural_network.artificial_neural_network.Neuron object>\n",
            "    n1_7 = <neural_network.artificial_neural_network.Neuron object>\n",
            "    n1_8 = <neural_network.artificial_neural_network.Neuron object>\n",
            "    n1_9 = <neural_network.artificial_neural_network.Neuron object>\n",
            "    n2_0 = <neural_network.artificial_neural_network.Neuron object>\n",
            "    n2_1 = <neural_network.artificial_neural_network.Neuron object>\n",
            "    n2_2 = <neural_network.artificial_neural_network.Neuron object>\n",
            "    n2_3 = <neural_network.artificial_neural_network.Neuron object>\n",
            "    n2_4 = <neural_network.artificial_neural_network.Neuron object>\n",
            "    n2_5 = <neural_network.artificial_neural_network.Neuron object>\n",
            "    n2_6 = <neural_network.artificial_neural_network.Neuron object>\n",
            "    n2_7 = <neural_network.artificial_neural_network.Neuron object>\n",
            "    n2_8 = <neural_network.artificial_neural_network.Neuron object>\n",
            "    n2_9 = <neural_network.artificial_neural_network.Neuron object>\n",
            "    n3_0 = <neural_network.artificial_neural_network.Neuron object>\n",
            "    n3_1 = <neural_network.artificial_neural_network.Neuron object>\n",
            "    n3_2 = <neural_network.artificial_neural_network.Neuron object>\n",
            "\n",
            "FILE\n",
            "    /usr/local/lib/python3.10/dist-packages/neural_network/artificial_neural_network.py\n",
            "\n",
            "\n"
          ]
        }
      ]
    },
    {
      "cell_type": "markdown",
      "source": [
        "# MLP classifier with this library:"
      ],
      "metadata": {
        "id": "OclxlMtyvz-2"
      }
    },
    {
      "cell_type": "markdown",
      "source": [
        "## For comparison, using ready-made library:"
      ],
      "metadata": {
        "id": "qPCqdAA48Dnm"
      }
    },
    {
      "cell_type": "code",
      "source": [
        "from sklearn.datasets import load_iris\n",
        "from sklearn.model_selection import train_test_split\n",
        "from sklearn.neural_network import MLPClassifier\n",
        "from sklearn.metrics import accuracy_score\n",
        "\n",
        "iris = load_iris()\n",
        "X = iris.data\n",
        "y = iris.target\n",
        "\n",
        "X_train, X_test, y_train, y_test = train_test_split(X, y, test_size=0.2, random_state=42)\n",
        "\n",
        "model = MLPClassifier(hidden_layer_sizes=(10, 10), max_iter=1000, random_state=42)\n",
        "\n",
        "model.fit(X_train, y_train)\n",
        "\n",
        "y_pred = model.predict(X_test)\n",
        "\n",
        "accuracy = accuracy_score(y_test, y_pred)\n",
        "print(\"Accuracy: {:.2f}%\".format(accuracy * 100))"
      ],
      "metadata": {
        "colab": {
          "base_uri": "https://localhost:8080/"
        },
        "id": "EWpvoP38rTqn",
        "outputId": "d49e6eeb-b56f-423c-e551-283d7e92a8df"
      },
      "execution_count": 62,
      "outputs": [
        {
          "output_type": "stream",
          "name": "stdout",
          "text": [
            "Accuracy: 93.33%\n"
          ]
        }
      ]
    },
    {
      "cell_type": "markdown",
      "source": [
        "## Creating and viewing the network:"
      ],
      "metadata": {
        "id": "tl95ViLcwuSY"
      }
    },
    {
      "cell_type": "code",
      "source": [
        "rede = nn.mlp([len(X[0]), 10, 10, 3], learn = 0.05)"
      ],
      "metadata": {
        "id": "ezBV8iBmwBX3"
      },
      "execution_count": 63,
      "outputs": []
    },
    {
      "cell_type": "code",
      "source": [
        "rede"
      ],
      "metadata": {
        "colab": {
          "base_uri": "https://localhost:8080/"
        },
        "id": "ZbGbNUc5wVYX",
        "outputId": "58d089d3-a58b-4b6f-82e3-537e667f0796"
      },
      "execution_count": 64,
      "outputs": [
        {
          "output_type": "execute_result",
          "data": {
            "text/plain": [
              "Layer[0] neuron[0] = 1 | w = [-0.7813752291476685, -0.4530599588338824, 0.872462930623235, -0.547955878956804, 0.49915107724406393, 0.1453913144837664, -0.924845064375597, -0.37880636215862684, -0.3424551948842849] | c = None\n",
              "Layer[0] neuron[1] = 1 | w = [-0.36514289540171885, -0.19576782899112732, 0.11565847035930776, -0.24442367211492688, 0.05424043300739245, -0.9492173484223976, 0.9200350543847184, -0.4567100263448942, 0.861810110875382] | c = None\n",
              "Layer[0] neuron[2] = 1 | w = [0.9870300137868495, -0.776545457749154, 0.6940082733778097, -0.4046978286880625, 0.06519189647868018, 0.793428019704354, -0.6857137547087417, 0.6884291830578173, 0.475070502083472] | c = None\n",
              "Layer[0] neuron[3] = 1 | w = [0.42149448181311033, -0.7913397180876769, -0.5630411287421544, 0.4695334109823801, 0.07252139119506573, -0.6889096937256829, -0.3934620220139555, 0.3967040813092413, 0.21678071992804582] | c = None\n",
              "Layer[1] neuron[0] = 1 | w = [0.5157010383056224, 0.6030818856627262, -0.3351908554119931, 0.030224972347695722, -0.44867945427616407, 0.21020246548327015, -0.1699490577915408, 0.7774554113123056, 0.8019852848461118] | c = None\n",
              "Layer[1] neuron[1] = None | w = [0.8780622067160735, -0.13319646115920136, 0.38675694464854926, -0.1810406836411107, -0.6198314642469205, -0.27884789986632663, 0.8584700752355341, -0.08892292392917711, 0.3195455053271321] | c = None\n",
              "Layer[1] neuron[2] = None | w = [0.888252735138658, -0.3696692101062684, -0.3500360618696905, 0.02762322980042109, 0.8165017439636653, -0.7006531233071494, -0.5668561105671488, 0.22578118696886662, -0.8321609303707871] | c = None\n",
              "Layer[1] neuron[3] = None | w = [-0.3163526770129066, 0.24351316664094624, -0.45877687727586935, 0.6254043760545147, 0.5974347172603649, -0.05922863170188619, -0.3664274451995846, 0.904366429394452, -0.12950698475495237] | c = None\n",
              "Layer[1] neuron[4] = None | w = [0.8246105022996573, -0.057278053550537056, 0.06574211799501639, 0.15482799376465572, 0.931581414371756, 0.44014616351264224, -0.026907226521811767, 0.9077100023005931, -0.36745501800297586] | c = None\n",
              "Layer[1] neuron[5] = None | w = [-0.9942717119822122, 0.14288419751019865, -0.9430649456059017, 0.4131243533598705, 0.020127657660413245, -0.6685862540236858, 0.37329268312355723, -0.05428387292971815, 0.4582800451888236] | c = None\n",
              "Layer[1] neuron[6] = None | w = [-0.2928423077937399, 0.9963172266977223, 0.6265930807750408, -0.44857496473821556, 0.34673864650365505, -0.8552410066228464, 0.8012633289015207, -0.8614593194325892, -0.807110890973725] | c = None\n",
              "Layer[1] neuron[7] = None | w = [-0.4770198024071084, 0.287883179726671, 0.08400464789797923, 0.6962055723222562, 0.4972268151583281, -0.8942216106502914, -0.6288866429633422, -0.06281395931894007, -0.5054791796859053] | c = None\n",
              "Layer[1] neuron[8] = None | w = [0.5492988740673528, 0.5998138924255956, -0.677739404284792, 0.0703052976328904, 0.9881535620318147, 0.024544546816110735, 0.33793960804048906, -0.7011286472743448, -0.8042331718916125] | c = None\n",
              "Layer[1] neuron[9] = None | w = [0.710007922356749, 0.3422189663483701, 0.519785503559741, -0.25273929582490395, 0.7939435356262836, 0.9335668504888575, 0.7233351722782075, 0.9436547256620746, 0.11790920302809349] | c = None\n",
              "Layer[2] neuron[0] = 1 | w = [0.36596482658685736, 0.7551413148827668, -0.7278631770371475] | c = None\n",
              "Layer[2] neuron[1] = None | w = [0.5484352023019778, -0.3108819638155744, 0.537169410000657] | c = None\n",
              "Layer[2] neuron[2] = None | w = [-0.8190499810171887, -0.1349896996233304, -0.11227357685659167] | c = None\n",
              "Layer[2] neuron[3] = None | w = [0.8860019530212622, -0.839503542555406, -0.3462857726273345] | c = None\n",
              "Layer[2] neuron[4] = None | w = [0.47191780812285145, 0.32198476888057037, 0.6691688275314704] | c = None\n",
              "Layer[2] neuron[5] = None | w = [-0.5971985637192683, -0.13245903012672033, -0.3227423099414608] | c = None\n",
              "Layer[2] neuron[6] = None | w = [-0.015728678679095776, 0.9142928045646912, 0.1302151598245349] | c = None\n",
              "Layer[2] neuron[7] = None | w = [-0.13877572734071597, -0.6171874677623399, -0.41776026788141163] | c = None\n",
              "Layer[2] neuron[8] = None | w = [0.6024588516813858, -0.13397859185541106, -0.6943623666173091] | c = None\n",
              "Layer[2] neuron[9] = None | w = [-0.20274035163523796, 0.43622158931982913, 0.7427908270229624] | c = None\n",
              "Layer[3] neuron[0] = None | w = None | c = None\n",
              "Layer[3] neuron[1] = None | w = None | c = None\n",
              "Layer[3] neuron[2] = None | w = None | c = None"
            ]
          },
          "metadata": {},
          "execution_count": 64
        }
      ]
    },
    {
      "cell_type": "markdown",
      "source": [
        "## Training the model:"
      ],
      "metadata": {
        "id": "AXNkFYsbwZJ-"
      }
    },
    {
      "cell_type": "code",
      "source": [
        "X_train = X_train.tolist()\n",
        "X_test = X_test.tolist()\n",
        "y_train = y_train.tolist()\n",
        "y_test = y_test.tolist()"
      ],
      "metadata": {
        "id": "oBFDRUFLw3To"
      },
      "execution_count": 65,
      "outputs": []
    },
    {
      "cell_type": "code",
      "source": [
        "def one_hot(a):\n",
        "  k = [0, 0, 0]\n",
        "  k[a] = 1\n",
        "  return k"
      ],
      "metadata": {
        "id": "1OIduwVCxlY_"
      },
      "execution_count": 66,
      "outputs": []
    },
    {
      "cell_type": "code",
      "source": [
        "rede.train(X_train, list(map(one_hot, y_train)), times = 100)"
      ],
      "metadata": {
        "colab": {
          "base_uri": "https://localhost:8080/"
        },
        "id": "MJpy_R-Iwl6H",
        "outputId": "e6befe27-b649-4b79-bdf3-72330f86b8d8"
      },
      "execution_count": 67,
      "outputs": [
        {
          "output_type": "stream",
          "name": "stdout",
          "text": [
            "5.0%\n",
            "10.0%\n",
            "15.0%\n",
            "20.0%\n",
            "25.0%\n",
            "30.0%\n",
            "35.0%\n",
            "40.0%\n",
            "45.0%\n",
            "50.0%\n",
            "55.0%\n",
            "60.0%\n",
            "65.0%\n",
            "70.0%\n",
            "75.0%\n",
            "80.0%\n",
            "85.0%\n",
            "90.0%\n",
            "95.0%\n",
            "100.%\n"
          ]
        }
      ]
    },
    {
      "cell_type": "markdown",
      "source": [
        "## Testing the results:"
      ],
      "metadata": {
        "id": "GCiXWzRqxTiG"
      }
    },
    {
      "cell_type": "code",
      "source": [
        "ac, total = 0, 0\n",
        "for i in range(len(X_test)):\n",
        "  resp = (rede == X_test[i])\n",
        "  if resp.index(max(resp)) == y_test[i]:\n",
        "    ac += 1\n",
        "  total += 1\n",
        "\n",
        "print(f\"\\n\\nAcurracy {ac/total * 100}\")"
      ],
      "metadata": {
        "colab": {
          "base_uri": "https://localhost:8080/"
        },
        "id": "Ci7IdNnexUru",
        "outputId": "ae226dca-fb91-4ac2-ff4d-c033f97e2a7d"
      },
      "execution_count": 69,
      "outputs": [
        {
          "output_type": "stream",
          "name": "stdout",
          "text": [
            "[6.1, 2.8, 4.7, 1.2]\n",
            "y(0) = 0.011764202582749007\n",
            "y(1) = 0.9439012458180708\n",
            "y(2) = 0.018642654219727856\n",
            "\n",
            "[5.7, 3.8, 1.7, 0.3]\n",
            "y(0) = 0.9921577690475769\n",
            "y(1) = 0.008898645325937647\n",
            "y(2) = 0.00031092649155446624\n",
            "\n",
            "[7.7, 2.6, 6.9, 2.3]\n",
            "y(0) = 0.00016678831703786673\n",
            "y(1) = 0.02056779040289588\n",
            "y(2) = 0.955841409996372\n",
            "\n",
            "[6.0, 2.9, 4.5, 1.5]\n",
            "y(0) = 0.0015580649340907167\n",
            "y(1) = 0.894656882356843\n",
            "y(2) = 0.1417568236184767\n",
            "\n",
            "[6.8, 2.8, 4.8, 1.4]\n",
            "y(0) = 0.0025385618185351402\n",
            "y(1) = 0.9815393929811569\n",
            "y(2) = 0.02890482980802524\n",
            "\n",
            "[5.4, 3.4, 1.5, 0.4]\n",
            "y(0) = 0.9914968639077174\n",
            "y(1) = 0.009689819403126496\n",
            "y(2) = 0.0003232678805911239\n",
            "\n",
            "[5.6, 2.9, 3.6, 1.3]\n",
            "y(0) = 0.017602440281265043\n",
            "y(1) = 0.9405997050301905\n",
            "y(2) = 0.01389200590055142\n",
            "\n",
            "[6.9, 3.1, 5.1, 2.3]\n",
            "y(0) = 0.0001808219488820485\n",
            "y(1) = 0.29383708842794215\n",
            "y(2) = 0.7650601749283955\n",
            "\n",
            "[6.2, 2.2, 4.5, 1.5]\n",
            "y(0) = 0.0002288988700358847\n",
            "y(1) = 0.2543834324575206\n",
            "y(2) = 0.8030318827658947\n",
            "\n",
            "[5.8, 2.7, 3.9, 1.2]\n",
            "y(0) = 0.002686834991100751\n",
            "y(1) = 0.9631745445706904\n",
            "y(2) = 0.05415167276946763\n",
            "\n",
            "[6.5, 3.2, 5.1, 2.0]\n",
            "y(0) = 0.000283306901477289\n",
            "y(1) = 0.5033070996147463\n",
            "y(2) = 0.5906591281744747\n",
            "\n",
            "[4.8, 3.0, 1.4, 0.1]\n",
            "y(0) = 0.99148253768609\n",
            "y(1) = 0.005251178721967198\n",
            "y(2) = 0.0006990726678138416\n",
            "\n",
            "[5.5, 3.5, 1.3, 0.2]\n",
            "y(0) = 0.9987826959682967\n",
            "y(1) = 0.001670447884979587\n",
            "y(2) = 0.0002239672016618376\n",
            "\n",
            "[4.9, 3.1, 1.5, 0.1]\n",
            "y(0) = 0.998816725312933\n",
            "y(1) = 0.0016397395273874188\n",
            "y(2) = 0.00021376015589635438\n",
            "\n",
            "[5.1, 3.8, 1.5, 0.3]\n",
            "y(0) = 0.9988285084559748\n",
            "y(1) = 0.0016246161003134136\n",
            "y(2) = 0.00021094345300829578\n",
            "\n",
            "[6.3, 3.3, 4.7, 1.6]\n",
            "y(0) = 0.013123725460425102\n",
            "y(1) = 0.9419830133346959\n",
            "y(2) = 0.016686241161281784\n",
            "\n",
            "[6.5, 3.0, 5.8, 2.2]\n",
            "y(0) = 6.174687035723674e-05\n",
            "y(1) = 0.05093428015799264\n",
            "y(2) = 0.9563431327651871\n",
            "\n",
            "[5.6, 2.5, 3.9, 1.1]\n",
            "y(0) = 0.002405305598323799\n",
            "y(1) = 0.9481236776481894\n",
            "y(2) = 0.07037523318921211\n",
            "\n",
            "[5.7, 2.8, 4.5, 1.3]\n",
            "y(0) = 0.002021003291432039\n",
            "y(1) = 0.9787138066316114\n",
            "y(2) = 0.034955442545503784\n",
            "\n",
            "[6.4, 2.8, 5.6, 2.2]\n",
            "y(0) = 6.0488274804453465e-05\n",
            "y(1) = 0.05182709879825804\n",
            "y(2) = 0.9571836043844539\n",
            "\n",
            "[4.7, 3.2, 1.6, 0.2]\n",
            "y(0) = 0.9908523703383665\n",
            "y(1) = 0.0033208499770531366\n",
            "y(2) = 0.00106307356769922\n",
            "\n",
            "[6.1, 3.0, 4.9, 1.8]\n",
            "y(0) = 0.0005186985188217136\n",
            "y(1) = 0.14079229778045482\n",
            "y(2) = 0.7522271001041624\n",
            "\n",
            "[5.0, 3.4, 1.6, 0.4]\n",
            "y(0) = 0.9914144854822341\n",
            "y(1) = 0.0036442510409782766\n",
            "y(2) = 0.0008369764888373788\n",
            "\n",
            "[6.4, 2.8, 5.6, 2.1]\n",
            "y(0) = 0.00016695569743420768\n",
            "y(1) = 0.020444919682797574\n",
            "y(2) = 0.9555718451932533\n",
            "\n",
            "[7.9, 3.8, 6.4, 2.0]\n",
            "y(0) = 0.0001061319576028028\n",
            "y(1) = 0.05663553133134446\n",
            "y(2) = 0.9513597215747039\n",
            "\n",
            "[6.7, 3.0, 5.2, 2.3]\n",
            "y(0) = 5.667663831498826e-05\n",
            "y(1) = 0.018898006931636492\n",
            "y(2) = 0.9836502119694895\n",
            "\n",
            "[6.7, 2.5, 5.8, 1.8]\n",
            "y(0) = 5.4623759611378886e-05\n",
            "y(1) = 0.017048226475656944\n",
            "y(2) = 0.9850651799017931\n",
            "\n",
            "[6.8, 3.2, 5.9, 2.3]\n",
            "y(0) = 5.452201254304955e-05\n",
            "y(1) = 0.016968131710261868\n",
            "y(2) = 0.9851147081304421\n",
            "\n",
            "[4.8, 3.0, 1.4, 0.3]\n",
            "y(0) = 0.9910619692014431\n",
            "y(1) = 0.003094787532693757\n",
            "y(2) = 0.001074912845105701\n",
            "\n",
            "[4.8, 3.1, 1.6, 0.2]\n",
            "y(0) = 0.9987420422227349\n",
            "y(1) = 0.0016969253616126037\n",
            "y(2) = 0.00022665095970824403\n",
            "\n",
            "\n",
            "\n",
            "Acurracy 96.66666666666667\n"
          ]
        }
      ]
    },
    {
      "cell_type": "markdown",
      "source": [
        "In this specific case, the library made from scratch was better than the ready-made implementation."
      ],
      "metadata": {
        "id": "qTj-K0_78NCw"
      }
    }
  ]
}